{
 "cells": [
  {
   "cell_type": "code",
   "execution_count": 0,
   "metadata": {
    "application/vnd.databricks.v1+cell": {
     "cellMetadata": {},
     "inputWidgets": {},
     "nuid": "0fec49bd-f1d4-47a1-b891-8639a9a8dfdd",
     "showTitle": false,
     "tableResultSettingsMap": {},
     "title": ""
    }
   },
   "outputs": [],
   "source": [
    "source_dir = \"/Volumes/incremental_load/default/orders_data/source/\"\n",
    "target_dir = \"/Volumes/incremental_load/default/orders_data/archive/\"\n",
    "stage_table = 'incremental_load.default.orders_stage'"
   ]
  },
  {
   "cell_type": "code",
   "execution_count": 0,
   "metadata": {
    "application/vnd.databricks.v1+cell": {
     "cellMetadata": {},
     "inputWidgets": {},
     "nuid": "d1828b69-605d-4d4e-ac53-d0bb817ce5aa",
     "showTitle": false,
     "tableResultSettingsMap": {},
     "title": ""
    }
   },
   "outputs": [],
   "source": [
    "# Read csv file from dbfs path under staging_zn folder\n",
    "df = spark.read.csv(source_dir, header=True, inferSchema=True) "
   ]
  },
  {
   "cell_type": "code",
   "execution_count": 0,
   "metadata": {
    "application/vnd.databricks.v1+cell": {
     "cellMetadata": {},
     "inputWidgets": {},
     "nuid": "fad28e37-08de-44ca-962a-29821de3825a",
     "showTitle": false,
     "tableResultSettingsMap": {},
     "title": ""
    }
   },
   "outputs": [],
   "source": [
    "# Create Ddelta table named stage_zn if it doesn't exist and overwrite the data in the stage table\n",
    "df.write.format('delta').mode('overwrite').saveAsTable(stage_table) \n",
    "# df.write.format('delta').mode('overwrite').save('/Volumes/incremental_load/default/orders_data/stage_data/')\n"
   ]
  },
  {
   "cell_type": "code",
   "execution_count": 0,
   "metadata": {
    "application/vnd.databricks.v1+cell": {
     "cellMetadata": {},
     "inputWidgets": {},
     "nuid": "90c47810-d4c7-4c39-a32b-c9fbe9b5dd1d",
     "showTitle": false,
     "tableResultSettingsMap": {},
     "title": ""
    }
   },
   "outputs": [],
   "source": [
    "# After successfully loading the data into stage table, move the file into archive directory\n",
    "# List all the files in the source directory\n",
    "files = dbutils.fs.ls(source_dir)\n",
    "\n",
    "# Iterate on the list one by one and print each file path separately \n",
    "for file in files:\n",
    "    src_path = file.path\n",
    "\n",
    "    # Construct the target path\n",
    "    target_path = target_dir + src_path.split('/')[-1]\n",
    "\n",
    "    # Move the file\n",
    "    dbutils.fs.mv(src_path, target_path) "
   ]
  }
 ],
 "metadata": {
  "application/vnd.databricks.v1+notebook": {
   "computePreferences": null,
   "dashboards": [],
   "environmentMetadata": {
    "base_environment": "",
    "environment_version": "2"
   },
   "inputWidgetPreferences": null,
   "language": "python",
   "notebookMetadata": {
    "pythonIndentUnit": 4
   },
   "notebookName": "orders_stage_load",
   "widgets": {}
  },
  "language_info": {
   "name": "python"
  }
 },
 "nbformat": 4,
 "nbformat_minor": 0
}
